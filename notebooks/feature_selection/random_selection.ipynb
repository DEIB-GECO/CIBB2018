{
 "cells": [
  {
   "cell_type": "code",
   "execution_count": 21,
   "metadata": {},
   "outputs": [
    {
     "name": "stdout",
     "output_type": "stream",
     "text": [
      "The autoreload extension is already loaded. To reload it, use:\n",
      "  %reload_ext autoreload\n"
     ]
    }
   ],
   "source": [
    "%load_ext autoreload\n",
    "%autoreload 1\n",
    "\n",
    "import sys\n",
    "sys.path.append(\"../utils/\")\n",
    "%aimport utils\n",
    "\n",
    "import pandas as pd\n",
    "import numpy as np\n",
    "\n",
    "seed = 42\n",
    "np.random.seed(seed)\n",
    "\n",
    "from sklearn.preprocessing import MinMaxScaler\n",
    "from keras.models import Sequential, Model\n",
    "from keras.layers import Dense"
   ]
  },
  {
   "cell_type": "code",
   "execution_count": 4,
   "metadata": {},
   "outputs": [
    {
     "name": "stdout",
     "output_type": "stream",
     "text": [
      "Cancer: BRCA\n",
      "\t#samples: 1218\n",
      "\t#genes: 20530\n",
      "\t#TUMORS: 1104\t#NORMAL: 114\n"
     ]
    }
   ],
   "source": [
    "cancer_name = 'BRCA'\n",
    "X_c, y_c = utils.get_cancer_data(cancer_name)\n",
    "print(\"Cancer: {}\".format(cancer_name))\n",
    "print(\"\\t#samples: {}\".format(X_c.shape[0]))\n",
    "print(\"\\t#genes: {}\".format(X_c.shape[1]))\n",
    "print(\"\\t#TUMORS: {}\\t#NORMAL: {}\".format(y_c[y_c == utils.TUMOR].shape[0], y_c[y_c == utils.NORMAL].shape[0]))"
   ]
  },
  {
   "cell_type": "code",
   "execution_count": 30,
   "metadata": {},
   "outputs": [],
   "source": [
    "def get_random_genes(k, n):\n",
    "    return np.random.choice(range(n), k, replace=False)"
   ]
  },
  {
   "cell_type": "code",
   "execution_count": 23,
   "metadata": {},
   "outputs": [],
   "source": [
    "k = 400\n",
    "n = X_c.shape[1]\n",
    "\n",
    "times = 2"
   ]
  },
  {
   "cell_type": "code",
   "execution_count": 26,
   "metadata": {},
   "outputs": [],
   "source": [
    "def get_filtered_features(X):\n",
    "    return np.arange(X.shape[1])\n",
    "\n",
    "def preprocess(X):\n",
    "    scaler = MinMaxScaler()\n",
    "    return utils.pre_process(X, get_filtered_features, scaler)"
   ]
  },
  {
   "cell_type": "code",
   "execution_count": 22,
   "metadata": {},
   "outputs": [],
   "source": [
    "def net(input_size):\n",
    "    \"\"\" A super-simple NN for the single tumor classification\n",
    "    \"\"\"\n",
    "    model = Sequential()\n",
    "    model.add(Dense(100, input_shape=(input_size,), activation='relu'))\n",
    "    model.add(Dense(50, activation='relu'))\n",
    "    model.add(Dense(20, activation='relu'))\n",
    "    model.add(Dense(1, activation=\"sigmoid\"))\n",
    "    return model"
   ]
  },
  {
   "cell_type": "code",
   "execution_count": 37,
   "metadata": {},
   "outputs": [
    {
     "name": "stdout",
     "output_type": "stream",
     "text": [
      "f1-score  0.92      precision 0.85      recall    1.00      accuracy  0.98      split     0.00      \n",
      "f1-score  0.87      precision 0.77      recall    1.00      accuracy  0.97      split     1.00      \n",
      "f1-score  0.94      precision 0.88      recall    1.00      accuracy  0.99      split     2.00      \n",
      "f1-score  0.95      precision 1.00      recall    0.91      accuracy  0.99      split     3.00      \n",
      "f1-score  0.94      precision 0.88      recall    1.00      accuracy  0.99      split     4.00      \n",
      "f1-score  0.92      precision 0.85      recall    1.00      accuracy  0.98      split     0.00      \n",
      "f1-score  0.96      precision 0.92      recall    1.00      accuracy  0.99      split     1.00      \n",
      "f1-score  0.96      precision 0.92      recall    1.00      accuracy  0.99      split     2.00      \n",
      "f1-score  0.98      precision 1.00      recall    0.96      accuracy  1.00      split     3.00      \n",
      "f1-score  0.91      precision 0.91      recall    0.91      accuracy  0.98      split     4.00      \n"
     ]
    }
   ],
   "source": [
    "cvscoress_all = None\n",
    "\n",
    "for i in range(times):\n",
    "    rg = get_random_genes(k, n)\n",
    "    #print(len(rg))\n",
    "    X_c_i = X_c[:, rg]\n",
    "    cvscores_c_i, histories_c_i = utils.cross_validation(X=X_c_i, y=y_c, \n",
    "                                                         preprocess=preprocess, \n",
    "                                                         seed=seed,\n",
    "                                                         create_model=net, \n",
    "                                                         get_measures=utils.get_measures)\n",
    "    cvscores_c_i['experiment'] = i\n",
    "    cvscoress_all = pd.concat([cvscoress_all, cvscores_c_i], axis=0)"
   ]
  },
  {
   "cell_type": "code",
   "execution_count": 40,
   "metadata": {},
   "outputs": [],
   "source": [
    "cvscoress_all.to_csv(\"./results/random_selection.tsv\", sep=\"\\t\", index=False, header=True)"
   ]
  }
 ],
 "metadata": {
  "kernelspec": {
   "display_name": "Python3 (deeplearning)",
   "language": "python",
   "name": "deeplearning"
  },
  "language_info": {
   "codemirror_mode": {
    "name": "ipython",
    "version": 3
   },
   "file_extension": ".py",
   "mimetype": "text/x-python",
   "name": "python",
   "nbconvert_exporter": "python",
   "pygments_lexer": "ipython3",
   "version": "3.6.3"
  },
  "varInspector": {
   "cols": {
    "lenName": 16,
    "lenType": 16,
    "lenVar": 40
   },
   "kernels_config": {
    "python": {
     "delete_cmd_postfix": "",
     "delete_cmd_prefix": "del ",
     "library": "var_list.py",
     "varRefreshCmd": "print(var_dic_list())"
    },
    "r": {
     "delete_cmd_postfix": ") ",
     "delete_cmd_prefix": "rm(",
     "library": "var_list.r",
     "varRefreshCmd": "cat(var_dic_list()) "
    }
   },
   "types_to_exclude": [
    "module",
    "function",
    "builtin_function_or_method",
    "instance",
    "_Feature"
   ],
   "window_display": false
  }
 },
 "nbformat": 4,
 "nbformat_minor": 2
}
