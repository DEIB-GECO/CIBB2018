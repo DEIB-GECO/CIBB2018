{
 "cells": [
  {
   "cell_type": "markdown",
   "metadata": {},
   "source": [
    "# Classifying Early and Late stage KIRC tumors from the TCGA database\n",
    "\n",
    "Replication of the study in [Jagga, Z. & Gupta, D. Classification models for clear cell renal carcinoma stage progression, based on tumor RNAseq expression trained supervised machine learning algorithms. BMC Proc. 8, S2 (2014)](http://bmcproc.biomedcentral.com/articles/10.1186/1753-6561-8-S6-S2)\n",
    "\n",
    "Data locations:\n",
    "- [Gene Expression Matrix](https://xenabrowser.net/datapages/?dataset=TCGA.KIRC.sampleMap%2FHiSeqV2&host=https%3A%2F%2Ftcga.xenahubs.net)\n",
    "- [Clinical Metadata](https://xenabrowser.net/datapages/?dataset=TCGA.KIRC.sampleMap%2FKIRC_clinicalMatrix&host=https%3A%2F%2Ftcga.xenahubs.net)"
   ]
  },
  {
   "cell_type": "code",
   "execution_count": 7,
   "metadata": {},
   "outputs": [
    {
     "name": "stdout",
     "output_type": "stream",
     "text": [
      "The autoreload extension is already loaded. To reload it, use:\n",
      "  %reload_ext autoreload\n"
     ]
    }
   ],
   "source": [
    "# utils\n",
    "%load_ext autoreload\n",
    "%autoreload 1\n",
    "\n",
    "import sys\n",
    "sys.path.append(\"../utils/\")\n",
    "%aimport utils\n",
    "\n",
    "import os\n",
    "\n",
    "# math\n",
    "import pandas as pd\n",
    "import numpy as np\n",
    "import time\n",
    "\n",
    "# visualization\n",
    "import seaborn as sns\n",
    "import matplotlib.pyplot as plt\n",
    "from matplotlib.lines import Line2D\n",
    "\n",
    "# sklearn utilities\n",
    "from sklearn.feature_selection import chi2, SelectKBest\n",
    "from sklearn.decomposition import PCA\n",
    "from sklearn.model_selection import cross_validate\n",
    "from sklearn.preprocessing import StandardScaler, MinMaxScaler\n",
    "\n",
    "# classifiers\n",
    "from sklearn.pipeline import Pipeline\n",
    "from sklearn.svm import SVC\n",
    "from sklearn.metrics import confusion_matrix, make_scorer\n",
    "import sklearn.metrics as metrics\n",
    "from sklearn.preprocessing import FunctionTransformer\n",
    "from sklearn.model_selection import train_test_split\n",
    "\n",
    "# keras\n",
    "from keras import backend as K\n",
    "from keras.models import Model, Input\n",
    "from keras.layers import Dense\n",
    "from keras.regularizers import l1\n",
    "from keras.callbacks import TensorBoard\n",
    "\n",
    "n_cores = 10\n",
    "\n",
    "K.set_session(K.tf.Session(config=K.tf.ConfigProto(\n",
    "    intra_op_parallelism_threads=n_cores, \n",
    "    inter_op_parallelism_threads=n_cores)))\n",
    "\n",
    "tb_session_name = \"SAE_KIRC\"\n",
    "tb_logs = \"/home/nanni/tensorboard_logs\"\n",
    "\n",
    "def get_tensorboard_callback():\n",
    "    return TensorBoard(log_dir=\"{}/{}__{}\".format(tb_logs, tb_session_name,time.strftime('%Y_%m_%d__%H_%M')))"
   ]
  },
  {
   "cell_type": "code",
   "execution_count": 2,
   "metadata": {},
   "outputs": [],
   "source": [
    "X_path = \"./data/KIRC_gene_exp.tsv\"\n",
    "X_meta_path = \"./data/KIRC_clinicalMatrix.tsv\""
   ]
  },
  {
   "cell_type": "markdown",
   "metadata": {},
   "source": [
    "We divide the stages in two classes:\n",
    "- *Early stage*: Stage 1 and Stage 2\n",
    "- *Late stage*: Stage 3 and Stage 4\n",
    "\n",
    "We consider only the samples which are labeled as \"Primary Tumor\""
   ]
  },
  {
   "cell_type": "code",
   "execution_count": 3,
   "metadata": {},
   "outputs": [
    {
     "name": "stdout",
     "output_type": "stream",
     "text": [
      "# patients with Primary Tumor and Stage I, Stage II, Stage III, Stage IV: 531\n"
     ]
    },
    {
     "name": "stderr",
     "output_type": "stream",
     "text": [
      "../utils/utils.py:302: FutureWarning: Method .as_matrix will be removed in a future version. Use .values instead.\n",
      "  X = X_exp.loc[patients].as_matrix(gene_names)\n"
     ]
    }
   ],
   "source": [
    "X, y, \\\n",
    "idx_to_patient, patient_to_idx, \\\n",
    "idx_to_gene, gene_to_idx = utils.load_stage_data(X_path, X_meta_path)"
   ]
  },
  {
   "cell_type": "code",
   "execution_count": null,
   "metadata": {},
   "outputs": [],
   "source": []
  },
  {
   "cell_type": "code",
   "execution_count": 13,
   "metadata": {},
   "outputs": [],
   "source": [
    "out_dir = \"./data/KIRC_preprocessed/\"\n",
    "\n",
    "os.makedirs(out_dir, exist_ok=True)\n",
    "np.save(os.path.join(out_dir, \"X\"), X)\n",
    "np.save(os.path.join(out_dir, \"y\"), y)\n",
    "idx_to_patient.to_csv(os.path.join(out_dir, \"idx_to_patient.tsv\"), sep=\"\\t\", index=True, header=None)\n",
    "patient_to_idx.to_csv(os.path.join(out_dir, \"patient_to_idx.tsv\"), sep=\"\\t\", index=True, header=None)\n",
    "idx_to_gene.to_csv(os.path.join(out_dir, \"idx_to_gene.tsv\"), sep=\"\\t\", index=True, header=None)\n",
    "gene_to_idx.to_csv(os.path.join(out_dir, \"gene_to_idx.tsv\"), sep=\"\\t\", index=True, header=None)"
   ]
  },
  {
   "cell_type": "markdown",
   "metadata": {},
   "source": [
    "## Cross-Validation Pipeline\n",
    "\n",
    "We perform a 10-fold-CV evaluation\n",
    "\n",
    "### Model:\n",
    "\n",
    "1. **Pre-processing**: nothing\n",
    "2. **Classifier**: SVC\n",
    "\n",
    "### Performance metrics:\n",
    "\n",
    "- Accuracy\n",
    "- Sensitivity\n",
    "- MCC\n",
    "- F1-score\n",
    "- Area under the ROC"
   ]
  },
  {
   "cell_type": "markdown",
   "metadata": {},
   "source": [
    "### Top Variant Feature Selection"
   ]
  },
  {
   "cell_type": "code",
   "execution_count": 4,
   "metadata": {},
   "outputs": [],
   "source": [
    "from sklearn.base import BaseEstimator\n",
    "from sklearn.feature_selection.base import SelectorMixin\n",
    "from sklearn.utils.validation import check_is_fitted\n",
    "\n",
    "class TopVariantSelector(BaseEstimator, SelectorMixin):\n",
    "    \"\"\" A very simple feature selector which uses the top variant features \"\"\"\n",
    "    def __init__(self, top_k):\n",
    "        self.top_k = top_k\n",
    "    \n",
    "    def fit(self, X, y=None):\n",
    "        stds = X.std(0) # 1 x n.genes\n",
    "        selected_genes = np.argsort(stds)[::-1][:self.top_k]\n",
    "        self.selected_genes_ = selected_genes\n",
    "        self.mask_ = np.in1d(np.arange(X.shape[1]), selected_genes)\n",
    "        return self\n",
    "        \n",
    "    def _get_support_mask(self):\n",
    "        check_is_fitted(self, 'selected_genes_')\n",
    "        check_is_fitted(self, 'mask_')\n",
    "        return self.mask_"
   ]
  },
  {
   "cell_type": "code",
   "execution_count": 5,
   "metadata": {},
   "outputs": [],
   "source": [
    "pipeline = Pipeline(steps=[\n",
    "    (\"feature_selection\", TopVariantSelector(top_k=5000)),\n",
    "    (\"classifier\", SVC())\n",
    "])"
   ]
  },
  {
   "cell_type": "code",
   "execution_count": 6,
   "metadata": {},
   "outputs": [],
   "source": [
    "scoring = {\n",
    "    'TRUE_ES': make_scorer(utils.tp),\n",
    "    'TRUE_LS': make_scorer(utils.tn),\n",
    "    'FALSE_ES': make_scorer(utils.fp),\n",
    "    'FLASE_LS': make_scorer(utils.fn),\n",
    "    \n",
    "    'accuracy': make_scorer(metrics.accuracy_score),\n",
    "    'sensitivity': make_scorer(metrics.recall_score, average=\"weighted\"),\n",
    "    'MCC': make_scorer(metrics.matthews_corrcoef),\n",
    "    'f-score': make_scorer(metrics.f1_score, average=\"weighted\"),\n",
    "    'auROC': make_scorer(metrics.roc_auc_score, average=\"weighted\")\n",
    "}"
   ]
  },
  {
   "cell_type": "code",
   "execution_count": 7,
   "metadata": {},
   "outputs": [],
   "source": [
    "scores = cross_validate(estimator=pipeline, scoring=scoring, \n",
    "                        X=X, y=y, cv=10, n_jobs=10, return_train_score=False)"
   ]
  },
  {
   "cell_type": "code",
   "execution_count": 8,
   "metadata": {},
   "outputs": [],
   "source": [
    "def get_confusion_matrix(scores):\n",
    "    test_TRUE_ES = scores['test_TRUE_ES'].sum()\n",
    "    test_TRUE_LS = scores['test_TRUE_LS'].sum()\n",
    "    test_FALSE_ES = scores['test_FALSE_ES'].sum()\n",
    "    test_FLASE_LS = scores['test_FLASE_LS'].sum()\n",
    "    \n",
    "    d = np.array([[test_TRUE_ES, test_FALSE_ES], \n",
    "                  [test_FLASE_LS, test_TRUE_LS]])\n",
    "    return d\n",
    "\n",
    "def cm_to_df(d):\n",
    "    r = pd.DataFrame(data=d, index=utils.name_labels, columns=utils.name_labels)\n",
    "    r.index.name = \"Actual\"\n",
    "    r.columns.name = \"Predicted\"\n",
    "    return r\n",
    "\n",
    "def get_aggregate_measures(scores):\n",
    "    res = {\n",
    "        'accuracy': scores['test_accuracy'],\n",
    "        'sensitivity': scores['test_sensitivity'],\n",
    "        'MCC': scores['test_MCC'],\n",
    "        'f-score': scores['test_f-score'],\n",
    "        'auROC': scores['test_auROC']\n",
    "    }\n",
    "    return pd.DataFrame.from_dict(res)"
   ]
  },
  {
   "cell_type": "code",
   "execution_count": 9,
   "metadata": {},
   "outputs": [
    {
     "data": {
      "text/plain": [
       "MCC            0.321503\n",
       "accuracy       0.692484\n",
       "auROC          0.623949\n",
       "f-score        0.649093\n",
       "sensitivity    0.692484\n",
       "dtype: float64"
      ]
     },
     "execution_count": 9,
     "metadata": {},
     "output_type": "execute_result"
    }
   ],
   "source": [
    "get_aggregate_measures(scores).mean()"
   ]
  },
  {
   "cell_type": "code",
   "execution_count": 10,
   "metadata": {},
   "outputs": [
    {
     "data": {
      "text/html": [
       "<div>\n",
       "<style scoped>\n",
       "    .dataframe tbody tr th:only-of-type {\n",
       "        vertical-align: middle;\n",
       "    }\n",
       "\n",
       "    .dataframe tbody tr th {\n",
       "        vertical-align: top;\n",
       "    }\n",
       "\n",
       "    .dataframe thead th {\n",
       "        text-align: right;\n",
       "    }\n",
       "</style>\n",
       "<table border=\"1\" class=\"dataframe\">\n",
       "  <thead>\n",
       "    <tr style=\"text-align: right;\">\n",
       "      <th>Predicted</th>\n",
       "      <th>Early_Stage</th>\n",
       "      <th>Late_Stage</th>\n",
       "    </tr>\n",
       "    <tr>\n",
       "      <th>Actual</th>\n",
       "      <th></th>\n",
       "      <th></th>\n",
       "    </tr>\n",
       "  </thead>\n",
       "  <tbody>\n",
       "    <tr>\n",
       "      <th>Early_Stage</th>\n",
       "      <td>303</td>\n",
       "      <td>142</td>\n",
       "    </tr>\n",
       "    <tr>\n",
       "      <th>Late_Stage</th>\n",
       "      <td>21</td>\n",
       "      <td>65</td>\n",
       "    </tr>\n",
       "  </tbody>\n",
       "</table>\n",
       "</div>"
      ],
      "text/plain": [
       "Predicted    Early_Stage  Late_Stage\n",
       "Actual                              \n",
       "Early_Stage          303         142\n",
       "Late_Stage            21          65"
      ]
     },
     "execution_count": 10,
     "metadata": {},
     "output_type": "execute_result"
    }
   ],
   "source": [
    "cm_to_df(get_confusion_matrix(scores))"
   ]
  }
 ],
 "metadata": {
  "kernelspec": {
   "display_name": "Python3 (deeplearning)",
   "language": "python",
   "name": "deeplearning"
  },
  "language_info": {
   "codemirror_mode": {
    "name": "ipython",
    "version": 3
   },
   "file_extension": ".py",
   "mimetype": "text/x-python",
   "name": "python",
   "nbconvert_exporter": "python",
   "pygments_lexer": "ipython3",
   "version": "3.6.6"
  }
 },
 "nbformat": 4,
 "nbformat_minor": 2
}
