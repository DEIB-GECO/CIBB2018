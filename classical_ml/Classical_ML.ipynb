{
 "cells": [
  {
   "cell_type": "code",
   "execution_count": 1,
   "metadata": {},
   "outputs": [
    {
     "name": "stderr",
     "output_type": "stream",
     "text": [
      "/home/nanni/anaconda3/envs/deeplearning/lib/python3.6/site-packages/h5py/__init__.py:36: FutureWarning: Conversion of the second argument of issubdtype from `float` to `np.floating` is deprecated. In future, it will be treated as `np.float64 == np.dtype(float).type`.\n",
      "  from ._conv import register_converters as _register_converters\n",
      "Using TensorFlow backend.\n"
     ]
    }
   ],
   "source": [
    "%load_ext autoreload\n",
    "%autoreload 1\n",
    "import time\n",
    "import pandas as pd\n",
    "import numpy as np\n",
    "import random as rn\n",
    "from tqdm import tqdm\n",
    "import os\n",
    "\n",
    "import sys\n",
    "\n",
    "sys.path.append(\"../utils/\")\n",
    "%aimport utils\n",
    "\n",
    "from sklearn.model_selection import StratifiedKFold\n",
    "from sklearn.preprocessing import MinMaxScaler\n",
    "from sklearn.model_selection import train_test_split\n",
    "from sklearn.decomposition import PCA\n",
    "from sklearn.svm import LinearSVC\n",
    "from sklearn.neighbors import KNeighborsClassifier\n",
    "from sklearn.ensemble import RandomForestClassifier\n",
    "from sklearn.metrics import f1_score, precision_score, recall_score, accuracy_score\n",
    "\n",
    "\n",
    "seed = 42\n",
    "os.environ['PYTHONHASHSEED'] = str(seed)\n",
    "np.random.seed(seed)\n",
    "\n",
    "TUMOR = 0\n",
    "NORMAL = 1"
   ]
  },
  {
   "cell_type": "code",
   "execution_count": 2,
   "metadata": {},
   "outputs": [],
   "source": [
    "def get_filtered_features(X):\n",
    "    #return np.arange(10)\n",
    "    return X.std(0).argsort()[::-1][:]\n",
    "\n",
    "def preprocess(X):\n",
    "    scaler = MinMaxScaler()\n",
    "    return utils.pre_process(X, get_filtered_features, scaler)"
   ]
  },
  {
   "cell_type": "code",
   "execution_count": 3,
   "metadata": {},
   "outputs": [
    {
     "name": "stdout",
     "output_type": "stream",
     "text": [
      "Cancer: BLCA\n",
      "\t#samples: 426\n",
      "\t#genes: 20530\n",
      "\t#TUMORS: 407\t#NORMAL: 19\n"
     ]
    }
   ],
   "source": [
    "cancer_name = \"BLCA\"\n",
    "\n",
    "X_c, y_c = utils.get_cancer_data(cancer_name)\n",
    "\n",
    "# sampler = RandomUnderSampler()\n",
    "# X_c, y_c = sampler.fit_sample(X_c, y_c)\n",
    "\n",
    "print(\"Cancer: {}\".format(cancer_name))\n",
    "print(\"\\t#samples: {}\".format(X_c.shape[0]))\n",
    "print(\"\\t#genes: {}\".format(X_c.shape[1]))\n",
    "print(\"\\t#TUMORS: {}\\t#NORMAL: {}\".format(y_c[y_c == TUMOR].shape[0], y_c[y_c == NORMAL].shape[0]))"
   ]
  },
  {
   "cell_type": "code",
   "execution_count": 4,
   "metadata": {},
   "outputs": [],
   "source": [
    "n_randomizations = 5\n",
    "n_folds = 5"
   ]
  },
  {
   "cell_type": "code",
   "execution_count": 5,
   "metadata": {
    "code_folding": []
   },
   "outputs": [
    {
     "name": "stdout",
     "output_type": "stream",
     "text": [
      "f1-score  1.00      precision 1.00      recall    1.00      accuracy  1.00      split     0.00      random_set0.00      \n",
      "f1-score  0.86      precision 1.00      recall    0.75      accuracy  0.99      split     1.00      random_set0.00      \n",
      "f1-score  0.67      precision 1.00      recall    0.50      accuracy  0.98      split     2.00      random_set0.00      \n",
      "f1-score  1.00      precision 1.00      recall    1.00      accuracy  1.00      split     3.00      random_set0.00      \n",
      "f1-score  0.86      precision 0.75      recall    1.00      accuracy  0.99      split     4.00      random_set0.00      \n",
      "f1-score  1.00      precision 1.00      recall    1.00      accuracy  1.00      split     0.00      random_set1.00      \n",
      "f1-score  1.00      precision 1.00      recall    1.00      accuracy  1.00      split     1.00      random_set1.00      \n",
      "f1-score  0.86      precision 1.00      recall    0.75      accuracy  0.99      split     2.00      random_set1.00      \n",
      "f1-score  1.00      precision 1.00      recall    1.00      accuracy  1.00      split     3.00      random_set1.00      \n",
      "f1-score  0.80      precision 1.00      recall    0.67      accuracy  0.99      split     4.00      random_set1.00      \n",
      "f1-score  0.57      precision 0.67      recall    0.50      accuracy  0.97      split     0.00      random_set2.00      \n",
      "f1-score  0.86      precision 1.00      recall    0.75      accuracy  0.99      split     1.00      random_set2.00      \n",
      "f1-score  1.00      precision 1.00      recall    1.00      accuracy  1.00      split     2.00      random_set2.00      \n",
      "f1-score  1.00      precision 1.00      recall    1.00      accuracy  1.00      split     3.00      random_set2.00      \n",
      "f1-score  0.86      precision 0.75      recall    1.00      accuracy  0.99      split     4.00      random_set2.00      \n",
      "f1-score  0.89      precision 0.80      recall    1.00      accuracy  0.99      split     0.00      random_set3.00      \n",
      "f1-score  0.86      precision 1.00      recall    0.75      accuracy  0.99      split     1.00      random_set3.00      \n",
      "f1-score  1.00      precision 1.00      recall    1.00      accuracy  1.00      split     2.00      random_set3.00      \n",
      "f1-score  0.86      precision 1.00      recall    0.75      accuracy  0.99      split     3.00      random_set3.00      \n",
      "f1-score  1.00      precision 1.00      recall    1.00      accuracy  1.00      split     4.00      random_set3.00      \n",
      "f1-score  1.00      precision 1.00      recall    1.00      accuracy  1.00      split     0.00      random_set4.00      \n",
      "f1-score  1.00      precision 1.00      recall    1.00      accuracy  1.00      split     1.00      random_set4.00      \n",
      "f1-score  0.86      precision 1.00      recall    0.75      accuracy  0.99      split     2.00      random_set4.00      \n",
      "f1-score  0.86      precision 1.00      recall    0.75      accuracy  0.99      split     3.00      random_set4.00      \n",
      "f1-score  0.86      precision 0.75      recall    1.00      accuracy  0.99      split     4.00      random_set4.00      \n"
     ]
    }
   ],
   "source": [
    "X, y = X_c, y_c\n",
    "\n",
    "cvscores = []\n",
    "\n",
    "def get_measures(y_true, y_pred):\n",
    "    f1 = f1_score(y_pred=y_pred, y_true=y_true)\n",
    "    precision = precision_score(y_pred=y_pred, y_true=y_true)\n",
    "    recall = recall_score(y_pred=y_pred, y_true=y_true)\n",
    "    accuracy = accuracy_score(y_pred=y_pred, y_true=y_true)\n",
    "\n",
    "    return {'f1-score': f1,\n",
    "            'precision': precision,\n",
    "            'recall': recall,\n",
    "            'accuracy': accuracy}\n",
    "\n",
    "\n",
    "def split_training(X, y, train, test, preprocess, seed):\n",
    "    X_train, y_train = X[train], y[train]\n",
    "    X_test, y_test = X[test], y[test]\n",
    "\n",
    "    # preprocess training set and get features and scaler\n",
    "    X_train, scaler, sel_features = preprocess(X_train)\n",
    "\n",
    "    # transform testing set\n",
    "    X_test = scaler.transform(X_test[:, sel_features])\n",
    "    return X_train, X_test, y_train, y_test\n",
    "\n",
    "\n",
    "for r in range(n_randomizations):\n",
    "    kfold = StratifiedKFold(n_splits=n_folds, shuffle=True, random_state=seed + r)\n",
    "    for i_split, (train, test) in enumerate(kfold.split(X, y)):\n",
    "        X_train, X_test, y_train, y_test = split_training(X, y, train, test, preprocess, seed)\n",
    "\n",
    "        model = LinearSVC(random_state=seed, class_weight=\"balanced\")\n",
    "        #model = KNeighborsClassifier()\n",
    "        #model = RandomForestClassifier()\n",
    "        model.fit(X_train, y_train)\n",
    "        # evaluate the model\n",
    "        y_pred = model.predict(X_test)\n",
    "        measures = get_measures(y_pred=y_pred, y_true=y_test)\n",
    "        measures['split'] = i_split\n",
    "        measures['random_set'] = r\n",
    "        print(\"\".join([\"{:<10}{:<10.2f}\".format(k, v) for (k, v) in measures.items()]))\n",
    "        cvscores.append(measures)\n",
    "\n",
    "cvscores = pd.DataFrame.from_dict(cvscores)"
   ]
  },
  {
   "cell_type": "code",
   "execution_count": 6,
   "metadata": {},
   "outputs": [
    {
     "data": {
      "text/html": [
       "<div>\n",
       "<style scoped>\n",
       "    .dataframe tbody tr th:only-of-type {\n",
       "        vertical-align: middle;\n",
       "    }\n",
       "\n",
       "    .dataframe tbody tr th {\n",
       "        vertical-align: top;\n",
       "    }\n",
       "\n",
       "    .dataframe thead th {\n",
       "        text-align: right;\n",
       "    }\n",
       "</style>\n",
       "<table border=\"1\" class=\"dataframe\">\n",
       "  <thead>\n",
       "    <tr style=\"text-align: right;\">\n",
       "      <th></th>\n",
       "      <th>accuracy</th>\n",
       "      <th>f1-score</th>\n",
       "      <th>precision</th>\n",
       "      <th>recall</th>\n",
       "    </tr>\n",
       "  </thead>\n",
       "  <tbody>\n",
       "    <tr>\n",
       "      <th>0</th>\n",
       "      <td>0.992016</td>\n",
       "      <td>0.899937</td>\n",
       "      <td>0.948667</td>\n",
       "      <td>0.876667</td>\n",
       "    </tr>\n",
       "  </tbody>\n",
       "</table>\n",
       "</div>"
      ],
      "text/plain": [
       "   accuracy  f1-score  precision    recall\n",
       "0  0.992016  0.899937   0.948667  0.876667"
      ]
     },
     "execution_count": 6,
     "metadata": {},
     "output_type": "execute_result"
    }
   ],
   "source": [
    "cvscores.mean().to_frame().T.drop([\"split\", 'random_set'], axis=1)"
   ]
  },
  {
   "cell_type": "code",
   "execution_count": null,
   "metadata": {},
   "outputs": [],
   "source": []
  }
 ],
 "metadata": {
  "kernelspec": {
   "display_name": "Python3 (deeplearning)",
   "language": "python",
   "name": "deeplearning"
  },
  "language_info": {
   "codemirror_mode": {
    "name": "ipython",
    "version": 3
   },
   "file_extension": ".py",
   "mimetype": "text/x-python",
   "name": "python",
   "nbconvert_exporter": "python",
   "pygments_lexer": "ipython3",
   "version": "3.6.3"
  },
  "varInspector": {
   "cols": {
    "lenName": 16,
    "lenType": 16,
    "lenVar": 40
   },
   "kernels_config": {
    "python": {
     "delete_cmd_postfix": "",
     "delete_cmd_prefix": "del ",
     "library": "var_list.py",
     "varRefreshCmd": "print(var_dic_list())"
    },
    "r": {
     "delete_cmd_postfix": ") ",
     "delete_cmd_prefix": "rm(",
     "library": "var_list.r",
     "varRefreshCmd": "cat(var_dic_list()) "
    }
   },
   "types_to_exclude": [
    "module",
    "function",
    "builtin_function_or_method",
    "instance",
    "_Feature"
   ],
   "window_display": false
  }
 },
 "nbformat": 4,
 "nbformat_minor": 2
}
