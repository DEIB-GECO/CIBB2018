{
 "cells": [
  {
   "cell_type": "code",
   "execution_count": 1,
   "metadata": {},
   "outputs": [],
   "source": [
    "import pandas as pd\n",
    "import os\n",
    "import numpy as np"
   ]
  },
  {
   "cell_type": "code",
   "execution_count": 2,
   "metadata": {},
   "outputs": [],
   "source": [
    "tcga_path = \"/home/nanni/Data/TCGA/Xena/tcga.tsv\"\n",
    "output_path = \"/home/nanni/Data/TCGA/CIBB/\"\n",
    "\n",
    "TUMOR = 0\n",
    "NORMAL = 1"
   ]
  },
  {
   "cell_type": "code",
   "execution_count": 3,
   "metadata": {},
   "outputs": [
    {
     "name": "stderr",
     "output_type": "stream",
     "text": [
      "/home/nanni/anaconda3/envs/deeplearning/lib/python3.6/site-packages/IPython/core/interactiveshell.py:2698: DtypeWarning: Columns (3,4) have mixed types. Specify dtype option on import or set low_memory=False.\n",
      "  interactivity=interactivity, compiler=compiler, result=result)\n"
     ]
    },
    {
     "data": {
      "text/plain": [
       "Index(['ARHGEF10L', 'HIF3A', 'RNF17', 'RNF10', 'RNF11', 'RNF13', 'GTF2IP1',\n",
       "       'REM1', 'MTVR2', 'RTN4RL2',\n",
       "       ...\n",
       "       'TULP2', 'NPY5R', 'GNGT2', 'GNGT1', 'TULP3', 'PTRF', 'BCL6B', 'GSTK1',\n",
       "       'SELP', 'SELS'],\n",
       "      dtype='object', length=20530)"
      ]
     },
     "execution_count": 3,
     "metadata": {},
     "output_type": "execute_result"
    }
   ],
   "source": [
    "tcga = pd.read_csv(tcga_path, sep=\"\\t\")\n",
    "gene_labels = tcga.columns[7:]\n",
    "gene_labels"
   ]
  },
  {
   "cell_type": "markdown",
   "metadata": {},
   "source": [
    "Saving the gene names in a Pandas series for mapping between indices and names"
   ]
  },
  {
   "cell_type": "code",
   "execution_count": 4,
   "metadata": {},
   "outputs": [],
   "source": [
    "gene_labels_df = pd.DataFrame(data=gene_labels.tolist(), columns=[\"gene_symbol\"])\n",
    "gene_labels_df.to_csv(os.path.join(output_path, \"gene_symbols.tsv\"), sep=\"\\t\", index=True, header=True)"
   ]
  },
  {
   "cell_type": "code",
   "execution_count": 30,
   "metadata": {},
   "outputs": [
    {
     "name": "stdout",
     "output_type": "stream",
     "text": [
      "ESCA\n",
      "SARC\n",
      "OV\n",
      "ACC\n",
      "CESC\n",
      "PAAD\n",
      "DLBC\n",
      "LGG\n",
      "TGCT\n",
      "HNSC\n",
      "PCPG\n",
      "KIRP\n",
      "KICH\n",
      "LUAD\n",
      "BLCA\n",
      "THYM\n",
      "PRAD\n",
      "CHOL\n",
      "STAD\n",
      "MESO\n",
      "SKCM\n",
      "UCEC\n",
      "LUSC\n",
      "UVM\n",
      "KIRC\n",
      "LIHC\n",
      "LAML\n",
      "READ\n",
      "UCS\n",
      "COAD\n",
      "GBM\n",
      "THCA\n"
     ]
    }
   ],
   "source": [
    "for tumor_type in tcga.tumor_type.unique():\n",
    "    if tumor_type not in ['GBMLGG', 'COADREAD', 'BRCA']:\n",
    "        print(tumor_type)\n",
    "        \n",
    "        X_tt = tcga.loc[tcga.tumor_type == tumor_type, gene_labels].as_matrix()\n",
    "        y_tt = tcga.loc[tcga.tumor_type == tumor_type, \"sample_type\"].as_matrix()\n",
    "        # We consider TUMOR everything which is not \"Solid Tissue Normal\"\n",
    "        y_tt_num = np.ones(y_tt.shape[0])\n",
    "        y_tt_num[y_tt != 'Solid Tissue Normal'] = TUMOR\n",
    "        \n",
    "        t_out_folder = os.path.join(output_path, tumor_type)\n",
    "        os.makedirs(t_out_folder, exist_ok=True)\n",
    "        np.save(os.path.join(t_out_folder, \"X.npy\"), X_tt)\n",
    "        np.save(os.path.join(t_out_folder, \"y.npy\"), y_tt_num)"
   ]
  },
  {
   "cell_type": "markdown",
   "metadata": {},
   "source": [
    "Aggregates"
   ]
  },
  {
   "cell_type": "code",
   "execution_count": 18,
   "metadata": {},
   "outputs": [],
   "source": [
    "aggregates = {\n",
    "    'LUNG': ['LUAD', 'LUSC'],\n",
    "    'KIDNEY': ['KIRP', 'KICH', 'KIRC'],\n",
    "    'COADREAD': ['COAD', 'READ'],\n",
    "    'GBMLGG': ['LGG', 'GBM']\n",
    "}\n",
    "aggregate_folder = os.path.join(output_path, 'aggregates')"
   ]
  },
  {
   "cell_type": "code",
   "execution_count": 19,
   "metadata": {},
   "outputs": [
    {
     "name": "stdout",
     "output_type": "stream",
     "text": [
      "LUNG      -->LUAD, LUSC                    \n",
      "KIDNEY    -->KIRP, KICH, KIRC              \n",
      "COADREAD  -->COAD, READ                    \n",
      "GBMLGG    -->LGG, GBM                      \n"
     ]
    }
   ],
   "source": [
    "for agg_name, agg in aggregates.items():\n",
    "    print(\"{:<10}-->{:<30}\".format(agg_name, \", \".join(agg)))\n",
    "    X_tt = tcga.loc[tcga.tumor_type.isin(agg), gene_labels].as_matrix()\n",
    "    y_tt = tcga.loc[tcga.tumor_type.isin(agg), \"sample_type\"].as_matrix()\n",
    "    # We consider TUMOR everything which is not \"Solid Tissue Normal\"\n",
    "    y_tt_num = np.ones(y_tt.shape[0])\n",
    "    y_tt_num[y_tt != 'Solid Tissue Normal'] = TUMOR\n",
    "\n",
    "    t_out_folder = os.path.join(aggregate_folder, agg_name)\n",
    "    os.makedirs(t_out_folder, exist_ok=True)\n",
    "    np.save(os.path.join(t_out_folder, \"X.npy\"), X_tt)\n",
    "    np.save(os.path.join(t_out_folder, \"y.npy\"), y_tt_num)"
   ]
  }
 ],
 "metadata": {
  "kernelspec": {
   "display_name": "Python3 (deeplearning)",
   "language": "python",
   "name": "deeplearning"
  },
  "language_info": {
   "codemirror_mode": {
    "name": "ipython",
    "version": 3
   },
   "file_extension": ".py",
   "mimetype": "text/x-python",
   "name": "python",
   "nbconvert_exporter": "python",
   "pygments_lexer": "ipython3",
   "version": "3.6.3"
  },
  "varInspector": {
   "cols": {
    "lenName": 16,
    "lenType": 16,
    "lenVar": 40
   },
   "kernels_config": {
    "python": {
     "delete_cmd_postfix": "",
     "delete_cmd_prefix": "del ",
     "library": "var_list.py",
     "varRefreshCmd": "print(var_dic_list())"
    },
    "r": {
     "delete_cmd_postfix": ") ",
     "delete_cmd_prefix": "rm(",
     "library": "var_list.r",
     "varRefreshCmd": "cat(var_dic_list()) "
    }
   },
   "types_to_exclude": [
    "module",
    "function",
    "builtin_function_or_method",
    "instance",
    "_Feature"
   ],
   "window_display": false
  }
 },
 "nbformat": 4,
 "nbformat_minor": 2
}
