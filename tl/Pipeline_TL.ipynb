{
 "cells": [
  {
   "cell_type": "code",
   "execution_count": 1,
   "metadata": {},
   "outputs": [
    {
     "name": "stderr",
     "output_type": "stream",
     "text": [
      "/home/nanni/anaconda3/envs/deeplearning/lib/python3.6/site-packages/h5py/__init__.py:36: FutureWarning: Conversion of the second argument of issubdtype from `float` to `np.floating` is deprecated. In future, it will be treated as `np.float64 == np.dtype(float).type`.\n",
      "  from ._conv import register_converters as _register_converters\n",
      "Using TensorFlow backend.\n"
     ]
    }
   ],
   "source": [
    "%load_ext autoreload\n",
    "%autoreload 1\n",
    "import time\n",
    "import pandas as pd\n",
    "import numpy as np\n",
    "import random as rn\n",
    "from tqdm import tqdm\n",
    "import os\n",
    "\n",
    "import sys\n",
    "\n",
    "sys.path.append(\"../utils/\")\n",
    "%aimport utils\n",
    "\n",
    "from keras import backend as K\n",
    "from keras.models import Sequential, Model\n",
    "from keras.layers import Dense\n",
    "\n",
    "from sklearn.model_selection import StratifiedKFold\n",
    "from sklearn.preprocessing import MinMaxScaler\n",
    "from sklearn.model_selection import train_test_split\n",
    "\n",
    "from tensorflow import set_random_seed\n",
    "\n",
    "# reproducibility\n",
    "\n",
    "seed = 42\n",
    "os.environ['PYTHONHASHSEED'] = str(seed)\n",
    "np.random.seed(seed)\n",
    "set_random_seed(seed)\n",
    "rn.seed(seed)\n",
    "\n",
    "# maximum number of cores\n",
    "n_cores = 10\n",
    "\n",
    "K.set_session(K.tf.Session(config=K.tf.ConfigProto(\n",
    "    intra_op_parallelism_threads=n_cores, \n",
    "    inter_op_parallelism_threads=n_cores\n",
    ")))\n",
    "\n",
    "TUMOR = 0\n",
    "NORMAL = 1"
   ]
  },
  {
   "cell_type": "code",
   "execution_count": 13,
   "metadata": {},
   "outputs": [],
   "source": [
    "now = time.strftime('%Y%m%d_%H%M')\n",
    "description = \"BRCA_1vsALL_NN_NN\"\n",
    "folder = now + \"_\" + description"
   ]
  },
  {
   "cell_type": "code",
   "execution_count": 41,
   "metadata": {},
   "outputs": [],
   "source": [
    "output_folder = os.path.join(\"./results/\", folder)\n",
    "os.makedirs(output_folder, exist_ok=True)"
   ]
  },
  {
   "cell_type": "code",
   "execution_count": 1,
   "metadata": {},
   "outputs": [
    {
     "ename": "NameError",
     "evalue": "name 'pd' is not defined",
     "output_type": "error",
     "traceback": [
      "\u001b[0;31m---------------------------------------------------------------------------\u001b[0m",
      "\u001b[0;31mNameError\u001b[0m                                 Traceback (most recent call last)",
      "\u001b[0;32m<ipython-input-1-35d2bf6620de>\u001b[0m in \u001b[0;36m<module>\u001b[0;34m()\u001b[0m\n\u001b[0;32m----> 1\u001b[0;31m \u001b[0mwriter\u001b[0m \u001b[0;34m=\u001b[0m \u001b[0mpd\u001b[0m\u001b[0;34m.\u001b[0m\u001b[0mExcelWriter\u001b[0m\u001b[0;34m(\u001b[0m\u001b[0mos\u001b[0m\u001b[0;34m.\u001b[0m\u001b[0mpath\u001b[0m\u001b[0;34m.\u001b[0m\u001b[0mjoin\u001b[0m\u001b[0;34m(\u001b[0m\u001b[0moutput_folder\u001b[0m\u001b[0;34m,\u001b[0m \u001b[0;34m\"results.xlsx\"\u001b[0m\u001b[0;34m)\u001b[0m\u001b[0;34m,\u001b[0m \u001b[0mengine\u001b[0m\u001b[0;34m=\u001b[0m\u001b[0;34m'xlsxwriter'\u001b[0m\u001b[0;34m)\u001b[0m\u001b[0;34m\u001b[0m\u001b[0m\n\u001b[0m",
      "\u001b[0;31mNameError\u001b[0m: name 'pd' is not defined"
     ]
    }
   ],
   "source": [
    "writer = pd.ExcelWriter(os.path.join(output_folder, \"results.xlsx\"), engine='xlsxwriter')"
   ]
  },
  {
   "cell_type": "markdown",
   "metadata": {},
   "source": [
    "## Data"
   ]
  },
  {
   "cell_type": "code",
   "execution_count": 15,
   "metadata": {},
   "outputs": [],
   "source": [
    "def get_filtered_features(X):\n",
    "    #return np.arange(X.shape[1])\n",
    "    return X.std(0).argsort()[::-1][:5000]\n",
    "\n",
    "def preprocess(X):\n",
    "    scaler = MinMaxScaler()\n",
    "    return utils.pre_process(X, get_filtered_features, scaler)"
   ]
  },
  {
   "cell_type": "markdown",
   "metadata": {},
   "source": [
    "## 1 vs ALL"
   ]
  },
  {
   "cell_type": "code",
   "execution_count": 16,
   "metadata": {},
   "outputs": [
    {
     "name": "stdout",
     "output_type": "stream",
     "text": [
      "Cancer: BRCA\n",
      "\t#samples: 1218\n",
      "\t#genes: 20530\n",
      "\t#TUMORS: 1104\t#NORMAL: 114\n"
     ]
    }
   ],
   "source": [
    "cancer_name = \"BRCA\"\n",
    "X_c, y_c = utils.get_cancer_data(cancer_name)\n",
    "print(\"Cancer: {}\".format(cancer_name))\n",
    "print(\"\\t#samples: {}\".format(X_c.shape[0]))\n",
    "print(\"\\t#genes: {}\".format(X_c.shape[1]))\n",
    "print(\"\\t#TUMORS: {}\\t#NORMAL: {}\".format(y_c[y_c == TUMOR].shape[0], y_c[y_c == NORMAL].shape[0]))"
   ]
  },
  {
   "cell_type": "code",
   "execution_count": 18,
   "metadata": {
    "scrolled": false
   },
   "outputs": [
    {
     "name": "stdout",
     "output_type": "stream",
     "text": [
      "LAML\n",
      "STAD\n",
      "PRAD\n",
      "SKCM\n",
      "CESC\n",
      "HNSC\n",
      "CHOL\n",
      "UVM\n",
      "TGCT\n",
      "OV\n",
      "COAD\n",
      "THCA\n",
      "MESO\n",
      "ACC\n",
      "UCS\n",
      "LGG\n",
      "DLBC\n",
      "GBM\n",
      "KIRC\n",
      "LUSC\n",
      "BLCA\n",
      "LIHC\n",
      "PCPG\n",
      "UCEC\n",
      "KIRP\n",
      "SARC\n",
      "KICH\n",
      "READ\n",
      "ESCA\n",
      "THYM\n",
      "PAAD\n",
      "LUAD\n"
     ]
    }
   ],
   "source": [
    "others = list(set(utils.all_tumor_names) - {cancer_name})\n",
    "# print(\", \".join(others))\n",
    "\n",
    "X_others = np.empty((0, X_c.shape[1]), dtype=int)\n",
    "y_others = np.empty(0, dtype=int)\n",
    "\n",
    "for o in others:\n",
    "    print(o)\n",
    "    X_o, y_o = utils.get_cancer_data(o)\n",
    "    X_others = np.append(X_others, X_o, axis=0)\n",
    "    y_others = np.append(y_others, y_o)"
   ]
  },
  {
   "cell_type": "markdown",
   "metadata": {},
   "source": [
    "### Tumor alone"
   ]
  },
  {
   "cell_type": "code",
   "execution_count": 19,
   "metadata": {},
   "outputs": [],
   "source": [
    "def tumor_alone_model(input_size):\n",
    "    \"\"\" A super-simple NN for the single tumor classification\n",
    "    \"\"\"\n",
    "    model = Sequential()\n",
    "    model.add(Dense(100, input_shape=(input_size,), activation='relu'))\n",
    "    model.add(Dense(20, activation='relu'))\n",
    "    model.add(Dense(1, activation=\"sigmoid\"))\n",
    "    return model"
   ]
  },
  {
   "cell_type": "code",
   "execution_count": 22,
   "metadata": {},
   "outputs": [
    {
     "name": "stdout",
     "output_type": "stream",
     "text": [
      "f1-score  0.98      precision 0.96      recall    1.00      accuracy  1.00      split     0.00      \n",
      "f1-score  0.98      precision 0.96      recall    1.00      accuracy  1.00      split     1.00      \n",
      "f1-score  0.85      precision 1.00      recall    0.74      accuracy  0.98      split     2.00      \n",
      "f1-score  0.98      precision 1.00      recall    0.96      accuracy  1.00      split     3.00      \n",
      "f1-score  0.96      precision 0.92      recall    1.00      accuracy  0.99      split     4.00      \n"
     ]
    },
    {
     "data": {
      "text/html": [
       "<div>\n",
       "<style scoped>\n",
       "    .dataframe tbody tr th:only-of-type {\n",
       "        vertical-align: middle;\n",
       "    }\n",
       "\n",
       "    .dataframe tbody tr th {\n",
       "        vertical-align: top;\n",
       "    }\n",
       "\n",
       "    .dataframe thead th {\n",
       "        text-align: right;\n",
       "    }\n",
       "</style>\n",
       "<table border=\"1\" class=\"dataframe\">\n",
       "  <thead>\n",
       "    <tr style=\"text-align: right;\">\n",
       "      <th></th>\n",
       "      <th>accuracy</th>\n",
       "      <th>f1-score</th>\n",
       "      <th>precision</th>\n",
       "      <th>recall</th>\n",
       "    </tr>\n",
       "  </thead>\n",
       "  <tbody>\n",
       "    <tr>\n",
       "      <th>0</th>\n",
       "      <td>0.99097</td>\n",
       "      <td>0.948349</td>\n",
       "      <td>0.966667</td>\n",
       "      <td>0.93913</td>\n",
       "    </tr>\n",
       "  </tbody>\n",
       "</table>\n",
       "</div>"
      ],
      "text/plain": [
       "   accuracy  f1-score  precision   recall\n",
       "0   0.99097  0.948349   0.966667  0.93913"
      ]
     },
     "execution_count": 22,
     "metadata": {},
     "output_type": "execute_result"
    }
   ],
   "source": [
    "cvscores_c, histories_c = utils.cross_validation(X=X_c, y=y_c, preprocess=preprocess, seed=seed,\n",
    "                                    create_model=tumor_alone_model, get_measures=utils.get_measures)\n",
    "cvscores_c.mean().to_frame().T.drop(\"split\", axis=1)"
   ]
  },
  {
   "cell_type": "code",
   "execution_count": 31,
   "metadata": {},
   "outputs": [],
   "source": [
    "utils.report(cvscores_c, writer=writer, sheet_name=\"{}_alone\".format(cancer_name))"
   ]
  },
  {
   "cell_type": "markdown",
   "metadata": {},
   "source": [
    "### Others alone"
   ]
  },
  {
   "cell_type": "code",
   "execution_count": 32,
   "metadata": {},
   "outputs": [],
   "source": [
    "def others_alone_model(input_size):\n",
    "    h1 = 500\n",
    "    h2 = 200\n",
    "    h3 = 100\n",
    "    h4 = 50\n",
    "    out = 1\n",
    "\n",
    "    model = Sequential()\n",
    "    model.add(Dense(h1, input_shape=(input_size, ), activation=\"relu\"))\n",
    "    model.add(Dense(h2, activation=\"relu\"))\n",
    "    model.add(Dense(h3, activation=\"relu\"))\n",
    "    model.add(Dense(h4, activation=\"relu\"))\n",
    "    model.add(Dense(out, activation=\"sigmoid\"))\n",
    "    return model"
   ]
  },
  {
   "cell_type": "code",
   "execution_count": 33,
   "metadata": {},
   "outputs": [
    {
     "name": "stdout",
     "output_type": "stream",
     "text": [
      "f1-score  0.82      precision 0.99      recall    0.70      accuracy  0.98      split     0.00      \n",
      "f1-score  0.95      precision 0.96      recall    0.94      accuracy  0.99      split     1.00      \n",
      "f1-score  0.92      precision 0.98      recall    0.86      accuracy  0.99      split     2.00      \n",
      "f1-score  0.94      precision 0.94      recall    0.95      accuracy  0.99      split     3.00      \n",
      "f1-score  0.94      precision 0.90      recall    0.98      accuracy  0.99      split     4.00      \n"
     ]
    },
    {
     "data": {
      "text/html": [
       "<div>\n",
       "<style scoped>\n",
       "    .dataframe tbody tr th:only-of-type {\n",
       "        vertical-align: middle;\n",
       "    }\n",
       "\n",
       "    .dataframe tbody tr th {\n",
       "        vertical-align: top;\n",
       "    }\n",
       "\n",
       "    .dataframe thead th {\n",
       "        text-align: right;\n",
       "    }\n",
       "</style>\n",
       "<table border=\"1\" class=\"dataframe\">\n",
       "  <thead>\n",
       "    <tr style=\"text-align: right;\">\n",
       "      <th></th>\n",
       "      <th>accuracy</th>\n",
       "      <th>f1-score</th>\n",
       "      <th>precision</th>\n",
       "      <th>recall</th>\n",
       "    </tr>\n",
       "  </thead>\n",
       "  <tbody>\n",
       "    <tr>\n",
       "      <th>0</th>\n",
       "      <td>0.989288</td>\n",
       "      <td>0.913641</td>\n",
       "      <td>0.951934</td>\n",
       "      <td>0.887698</td>\n",
       "    </tr>\n",
       "  </tbody>\n",
       "</table>\n",
       "</div>"
      ],
      "text/plain": [
       "   accuracy  f1-score  precision    recall\n",
       "0  0.989288  0.913641   0.951934  0.887698"
      ]
     },
     "execution_count": 33,
     "metadata": {},
     "output_type": "execute_result"
    }
   ],
   "source": [
    "cvscores_others, histories_others = utils.cross_validation(X=X_others, y=y_others, preprocess=preprocess, \n",
    "                                                           seed=seed, create_model=others_alone_model, \n",
    "                                                           get_measures=utils.get_measures)\n",
    "cvscores_others.mean().to_frame().T.drop(\"split\", axis=1)"
   ]
  },
  {
   "cell_type": "code",
   "execution_count": 34,
   "metadata": {},
   "outputs": [],
   "source": [
    "utils.report(cvscores_others, writer=writer, sheet_name=\"{}_others\".format(cancer_name))"
   ]
  },
  {
   "cell_type": "markdown",
   "metadata": {},
   "source": [
    "### Transfer learning"
   ]
  },
  {
   "cell_type": "code",
   "execution_count": 35,
   "metadata": {},
   "outputs": [],
   "source": [
    "def create_other_network(input_size):\n",
    "    h1 = 500\n",
    "    h2 = 200\n",
    "    h3 = 100\n",
    "    h4 = 50\n",
    "    out = 1\n",
    "    \n",
    "    model = Sequential()\n",
    "    model.add(Dense(h1, input_shape=(input_size, ), activation=\"relu\", name='h1'))\n",
    "    model.add(Dense(h2, activation=\"relu\", name='h2'))\n",
    "    model.add(Dense(h3, activation=\"relu\", name='h3'))\n",
    "    model.add(Dense(h4, activation=\"relu\", name='h4'))\n",
    "    model.add(Dense(out, activation=\"sigmoid\", name='out'))\n",
    "    \n",
    "    encoder = Model(inputs=model.input, outputs=model.get_layer(\"h3\").output)\n",
    "    \n",
    "    return model, encoder"
   ]
  },
  {
   "cell_type": "code",
   "execution_count": 36,
   "metadata": {},
   "outputs": [],
   "source": [
    "def create_additional_network(input_size):\n",
    "    h1 = 50\n",
    "    h2 = 10\n",
    "    out = 1\n",
    "    \n",
    "    model = Sequential()\n",
    "    model.add(Dense(h1, input_shape=(input_size, ), activation=\"relu\", name='h1'))\n",
    "    model.add(Dense(h2, activation=\"relu\", name='h2'))\n",
    "    model.add(Dense(out, activation=\"sigmoid\", name='out'))\n",
    "    return model"
   ]
  },
  {
   "cell_type": "code",
   "execution_count": 37,
   "metadata": {},
   "outputs": [],
   "source": [
    "def transfer_learning(X, y, train, test, preprocess, validation_split, seed, X_other, y_other):\n",
    "#     print(X.shape, y.shape)\n",
    "#     print(X_other.shape, y.shape)\n",
    "#     print(\"Splitting of X_c\")\n",
    "    # Splitting the single tumor dataset\n",
    "    X_train, y_train = X[train], y[train]\n",
    "    X_test, y_test = X[test], y[test]\n",
    "    \n",
    "    # get the validation set in a stratified fashion from the training set\n",
    "    X_train, X_val, y_train, y_val = train_test_split(X_train, y_train, test_size=validation_split,\n",
    "                                                      random_state=seed, stratify=y_train)\n",
    "#     print(\"Scaling of X_c\")\n",
    "    # preprocess training set and get features and scaler\n",
    "    X_train, scaler, sel_features = preprocess(X_train)\n",
    "    # transform testing set\n",
    "    X_test = scaler.fit_transform(X_test[:, sel_features])\n",
    "    # transform validation set\n",
    "    X_val = scaler.fit_transform(X_val[:, sel_features])\n",
    "    \n",
    "#     print(\"Scaling and selection on X_other\")\n",
    "    # for the other set we use a brand new scaler but the same features\n",
    "    other_scaler = MinMaxScaler()\n",
    "    X_other = other_scaler.fit_transform(X_other[:, sel_features])\n",
    "    # splitting other set in training and validation (no test...useless)\n",
    "    X_other_train, X_other_val, \\\n",
    "    y_other_train, y_other_val = train_test_split(X_other, y_other, test_size=validation_split,\n",
    "                                                  random_state=seed, stratify=y_other)\n",
    "    \n",
    "#     print(\"Fitting the OTHER model\")\n",
    "    # create and fit the OTHER model\n",
    "    other_model, encoder = create_other_network(input_size=X_other_train.shape[1])\n",
    "    other_model.compile(loss=\"binary_crossentropy\", optimizer=\"adam\", metrics=['accuracy'])\n",
    "    other_model.fit(X_other_train, y_other_train,\n",
    "                    epochs=100, batch_size=60,\n",
    "                    verbose=0, validation_data=(X_other_val, y_other_val),\n",
    "                    callbacks=[utils.get_early_stopping_condition()])\n",
    "    \n",
    "#     print(\"Encoding X_c\")\n",
    "    # embedding of data\n",
    "    X_train_code = encoder.predict(X_train)\n",
    "    X_val_code = encoder.predict(X_val)\n",
    "    X_test_code = encoder.predict(X_test)\n",
    "    \n",
    "#     print(X_train_code.shape)\n",
    "#     print(X_val_code.shape)\n",
    "#     print(X_test_code.shape)\n",
    "    \n",
    "    return X_train_code, X_val_code, X_test_code, y_train, y_val, y_test"
   ]
  },
  {
   "cell_type": "code",
   "execution_count": 38,
   "metadata": {},
   "outputs": [
    {
     "name": "stdout",
     "output_type": "stream",
     "text": [
      "f1-score  0.94      precision 0.88      recall    1.00      accuracy  0.99      split     0.00      \n",
      "f1-score  0.90      precision 0.82      recall    1.00      accuracy  0.98      split     1.00      \n",
      "f1-score  0.96      precision 0.96      recall    0.96      accuracy  0.99      split     2.00      \n",
      "f1-score  0.94      precision 0.88      recall    1.00      accuracy  0.99      split     3.00      \n",
      "f1-score  0.96      precision 0.92      recall    1.00      accuracy  0.99      split     4.00      \n"
     ]
    }
   ],
   "source": [
    "cvscores_tl, histories_tl = utils.cross_validation(X=X_c, y=y_c, preprocess=preprocess, seed=seed,\n",
    "                                                   create_model=create_additional_network, \n",
    "                                                   get_measures=utils.get_measures, \n",
    "                                                   data_preparation=transfer_learning, \n",
    "                                                   X_other=X_others, y_other=y_others)"
   ]
  },
  {
   "cell_type": "code",
   "execution_count": 39,
   "metadata": {},
   "outputs": [
    {
     "data": {
      "text/html": [
       "<div>\n",
       "<style scoped>\n",
       "    .dataframe tbody tr th:only-of-type {\n",
       "        vertical-align: middle;\n",
       "    }\n",
       "\n",
       "    .dataframe tbody tr th {\n",
       "        vertical-align: top;\n",
       "    }\n",
       "\n",
       "    .dataframe thead th {\n",
       "        text-align: right;\n",
       "    }\n",
       "</style>\n",
       "<table border=\"1\" class=\"dataframe\">\n",
       "  <thead>\n",
       "    <tr style=\"text-align: right;\">\n",
       "      <th></th>\n",
       "      <th>accuracy</th>\n",
       "      <th>f1-score</th>\n",
       "      <th>precision</th>\n",
       "      <th>recall</th>\n",
       "    </tr>\n",
       "  </thead>\n",
       "  <tbody>\n",
       "    <tr>\n",
       "      <th>0</th>\n",
       "      <td>0.987691</td>\n",
       "      <td>0.938511</td>\n",
       "      <td>0.89277</td>\n",
       "      <td>0.991304</td>\n",
       "    </tr>\n",
       "  </tbody>\n",
       "</table>\n",
       "</div>"
      ],
      "text/plain": [
       "   accuracy  f1-score  precision    recall\n",
       "0  0.987691  0.938511    0.89277  0.991304"
      ]
     },
     "execution_count": 39,
     "metadata": {},
     "output_type": "execute_result"
    }
   ],
   "source": [
    "cvscores_tl.mean().to_frame().T.drop(\"split\", axis=1)"
   ]
  },
  {
   "cell_type": "code",
   "execution_count": 40,
   "metadata": {},
   "outputs": [],
   "source": [
    "utils.report(cvscores_others, writer=writer, sheet_name=\"{}_TL\".format(cancer_name))"
   ]
  },
  {
   "cell_type": "code",
   "execution_count": 42,
   "metadata": {},
   "outputs": [],
   "source": [
    "writer.save()"
   ]
  }
 ],
 "metadata": {
  "kernelspec": {
   "display_name": "Python3 (deeplearning)",
   "language": "python",
   "name": "deeplearning"
  },
  "language_info": {
   "codemirror_mode": {
    "name": "ipython",
    "version": 3
   },
   "file_extension": ".py",
   "mimetype": "text/x-python",
   "name": "python",
   "nbconvert_exporter": "python",
   "pygments_lexer": "ipython3",
   "version": "3.6.3"
  },
  "varInspector": {
   "cols": {
    "lenName": 16,
    "lenType": 16,
    "lenVar": 40
   },
   "kernels_config": {
    "python": {
     "delete_cmd_postfix": "",
     "delete_cmd_prefix": "del ",
     "library": "var_list.py",
     "varRefreshCmd": "print(var_dic_list())"
    },
    "r": {
     "delete_cmd_postfix": ") ",
     "delete_cmd_prefix": "rm(",
     "library": "var_list.r",
     "varRefreshCmd": "cat(var_dic_list()) "
    }
   },
   "types_to_exclude": [
    "module",
    "function",
    "builtin_function_or_method",
    "instance",
    "_Feature"
   ],
   "window_display": false
  }
 },
 "nbformat": 4,
 "nbformat_minor": 2
}
